{
 "cells": [
  {
   "cell_type": "code",
   "execution_count": 1,
   "metadata": {},
   "outputs": [
    {
     "name": "stderr",
     "output_type": "stream",
     "text": [
      "Using TensorFlow backend.\n"
     ]
    }
   ],
   "source": [
    "import numpy as np\n",
    "from keras.datasets import imdb\n",
    "from keras.preprocessing.sequence import pad_sequences\n",
    "from keras.utils import to_categorical\n",
    "from keras.layers import Input, Embedding, Conv1D, Dense, Dropout, GlobalMaxPool1D, MaxPooling1D, Activation, Flatten\n",
    "from keras.models import Model"
   ]
  },
  {
   "cell_type": "code",
   "execution_count": 2,
   "metadata": {},
   "outputs": [],
   "source": [
    "PAD_SEQUENCES = 1000"
   ]
  },
  {
   "cell_type": "markdown",
   "metadata": {},
   "source": [
    "# Create char_to_index, index_to_char dicts"
   ]
  },
  {
   "cell_type": "code",
   "execution_count": 3,
   "metadata": {},
   "outputs": [
    {
     "name": "stdout",
     "output_type": "stream",
     "text": [
      "['a', 'b', 'c', 'd', 'e', 'f', 'g', 'h', 'i', 'j', 'k', 'l', 'm', 'n', 'o', 'p', 'q', 'r', 's', 't', 'u', 'v', 'w', 'x', 'y', 'z', 'A', 'B', 'C', 'D', 'E', 'F', 'G', 'H', 'I', 'J', 'K', 'L', 'M', 'N', 'O', 'P', 'Q', 'R', 'S', 'T', 'U', 'V', 'W', 'X', 'Y', 'Z']\n",
      "Len of chars  52\n"
     ]
    }
   ],
   "source": [
    "valid_chars = []\n",
    "id = ord('a')\n",
    "while id <= ord('z'):\n",
    "    valid_chars.append(chr(id))\n",
    "    id += 1    \n",
    "    \n",
    "id = ord('A')\n",
    "while id <= ord('Z'):\n",
    "    valid_chars.append(chr(id))\n",
    "    id += 1\n",
    "\n",
    "print(valid_chars)\n",
    "char_to_index = {}\n",
    "index_to_char = {}\n",
    "for idx, ch in enumerate(valid_chars):\n",
    "    char_to_index[ch] = idx\n",
    "    index_to_char[idx] = ch\n",
    "    \n",
    "print(\"Len of chars \", len(valid_chars))"
   ]
  },
  {
   "cell_type": "markdown",
   "metadata": {},
   "source": [
    "# Load data"
   ]
  },
  {
   "cell_type": "code",
   "execution_count": 4,
   "metadata": {},
   "outputs": [
    {
     "name": "stdout",
     "output_type": "stream",
     "text": [
      "25000 train sequences\n",
      "25000 test sequences\n",
      "<class 'numpy.ndarray'>\n"
     ]
    }
   ],
   "source": [
    "(x_train,y_train), (x_test, y_test) = imdb.load_data(num_words=10000000)\n",
    "word_index = imdb.get_word_index()\n",
    "word_index = {key:(value + 3) for key, value in word_index.items()}\n",
    "index_to_word = {value:key for key, value in word_index.items()}\n",
    "index_to_word[0] = \"\"\n",
    "index_to_word[1] = \"\"\n",
    "index_to_word[2] = \"\"\n",
    "print(len(x_train), 'train sequences')\n",
    "print(len(x_test), 'test sequences')\n",
    "print(type(x_train))"
   ]
  },
  {
   "cell_type": "code",
   "execution_count": 5,
   "metadata": {},
   "outputs": [
    {
     "name": "stdout",
     "output_type": "stream",
     "text": [
      "shape  (25000, 2)\n"
     ]
    }
   ],
   "source": [
    "y_train = to_categorical(y_train, 2)\n",
    "y_test = to_categorical(y_test, 2)\n",
    "print(\"shape \", y_train.shape)"
   ]
  },
  {
   "cell_type": "markdown",
   "metadata": {},
   "source": [
    "# Convert word reviews to char review"
   ]
  },
  {
   "cell_type": "code",
   "execution_count": 6,
   "metadata": {},
   "outputs": [
    {
     "name": "stdout",
     "output_type": "stream",
     "text": [
      "Shape (25000,)\n"
     ]
    }
   ],
   "source": [
    "x_train_char = []\n",
    "x_test_char = []\n",
    "\n",
    "for idx in range(x_train.shape[0]):\n",
    "    sentence = ' '.join([index_to_word[x] for x in x_train[idx]])\n",
    "    sentence_indexes = []\n",
    "    for ch in sentence:\n",
    "        if ch in char_to_index:\n",
    "            sentence_indexes.append(char_to_index[ch])\n",
    "    x_train_char.append(sentence_indexes)\n",
    "\n",
    "for idx in range(x_test.shape[0]):\n",
    "    sentence = ' '.join([index_to_word[x] for x in x_test[idx]])\n",
    "    sentence_indexes = []\n",
    "    for ch in sentence:\n",
    "        if ch in char_to_index:\n",
    "            sentence_indexes.append(char_to_index[ch])\n",
    "    x_test_char.append(sentence_indexes)    \n",
    "    \n",
    "x_train_char = np.array(x_train_char)\n",
    "x_test_char = np.array(x_test_char)\n",
    "print(\"Shape\", x_train_char.shape)"
   ]
  },
  {
   "cell_type": "code",
   "execution_count": 7,
   "metadata": {},
   "outputs": [
    {
     "name": "stdout",
     "output_type": "stream",
     "text": [
      "Shape (25000, 1000)\n"
     ]
    }
   ],
   "source": [
    "x_train_char = pad_sequences(x_train_char, maxlen=PAD_SEQUENCES)\n",
    "x_test_char = pad_sequences(x_test_char, maxlen=PAD_SEQUENCES)\n",
    "print(\"Shape\", x_train_char.shape)"
   ]
  },
  {
   "cell_type": "markdown",
   "metadata": {},
   "source": [
    "# Construct model"
   ]
  },
  {
   "cell_type": "code",
   "execution_count": 8,
   "metadata": {},
   "outputs": [],
   "source": [
    "def define_model():\n",
    "    seq_input = Input((PAD_SEQUENCES,))    \n",
    "    l = Embedding(len(valid_chars), 10)(seq_input)    \n",
    "    l = Dropout(0.2)(l)    \n",
    "    l = Conv1D(filters=200, kernel_size=3)(l)    \n",
    "    l = GlobalMaxPool1D()(l)    \n",
    "    l = Dense(256)(l)    \n",
    "    l = Dropout(0.2)(l)    \n",
    "    l = Activation(activation='relu')(l)    \n",
    "    pred = Dense(2, activation='softmax')(l)\n",
    "    model = Model(seq_input, pred)\n",
    "    model.compile(optimizer=\"adam\",\n",
    "                 loss=\"categorical_crossentropy\",\n",
    "                 metrics=[\"accuracy\"])\n",
    "    return model"
   ]
  },
  {
   "cell_type": "code",
   "execution_count": 9,
   "metadata": {},
   "outputs": [],
   "source": [
    "model = define_model()"
   ]
  },
  {
   "cell_type": "code",
   "execution_count": 10,
   "metadata": {},
   "outputs": [
    {
     "name": "stdout",
     "output_type": "stream",
     "text": [
      "_________________________________________________________________\n",
      "Layer (type)                 Output Shape              Param #   \n",
      "=================================================================\n",
      "input_1 (InputLayer)         (None, 1000)              0         \n",
      "_________________________________________________________________\n",
      "embedding_1 (Embedding)      (None, 1000, 10)          520       \n",
      "_________________________________________________________________\n",
      "dropout_1 (Dropout)          (None, 1000, 10)          0         \n",
      "_________________________________________________________________\n",
      "conv1d_1 (Conv1D)            (None, 998, 200)          6200      \n",
      "_________________________________________________________________\n",
      "global_max_pooling1d_1 (Glob (None, 200)               0         \n",
      "_________________________________________________________________\n",
      "dense_1 (Dense)              (None, 256)               51456     \n",
      "_________________________________________________________________\n",
      "dropout_2 (Dropout)          (None, 256)               0         \n",
      "_________________________________________________________________\n",
      "activation_1 (Activation)    (None, 256)               0         \n",
      "_________________________________________________________________\n",
      "dense_2 (Dense)              (None, 2)                 514       \n",
      "=================================================================\n",
      "Total params: 58,690\n",
      "Trainable params: 58,690\n",
      "Non-trainable params: 0\n",
      "_________________________________________________________________\n"
     ]
    }
   ],
   "source": [
    "model.summary()"
   ]
  },
  {
   "cell_type": "code",
   "execution_count": 11,
   "metadata": {},
   "outputs": [
    {
     "name": "stdout",
     "output_type": "stream",
     "text": [
      "Train on 20000 samples, validate on 5000 samples\n",
      "Epoch 1/10\n",
      "20000/20000 [==============================] - 13s 628us/step - loss: 0.6931 - acc: 0.5021 - val_loss: 0.6914 - val_acc: 0.5062\n",
      "Epoch 2/10\n",
      "20000/20000 [==============================] - 11s 564us/step - loss: 0.6731 - acc: 0.5890 - val_loss: 0.6464 - val_acc: 0.6284\n",
      "Epoch 3/10\n",
      "20000/20000 [==============================] - 11s 564us/step - loss: 0.6241 - acc: 0.6504 - val_loss: 0.5900 - val_acc: 0.7006\n",
      "Epoch 4/10\n",
      "20000/20000 [==============================] - 11s 564us/step - loss: 0.5918 - acc: 0.6811 - val_loss: 0.5813 - val_acc: 0.6890\n",
      "Epoch 5/10\n",
      "20000/20000 [==============================] - 11s 565us/step - loss: 0.5613 - acc: 0.7088 - val_loss: 0.5305 - val_acc: 0.7368\n",
      "Epoch 6/10\n",
      "20000/20000 [==============================] - 11s 564us/step - loss: 0.5464 - acc: 0.7202 - val_loss: 0.5134 - val_acc: 0.7486\n",
      "Epoch 7/10\n",
      "20000/20000 [==============================] - 11s 565us/step - loss: 0.5272 - acc: 0.7335 - val_loss: 0.5593 - val_acc: 0.7084\n",
      "Epoch 8/10\n",
      "20000/20000 [==============================] - 11s 565us/step - loss: 0.5190 - acc: 0.7411 - val_loss: 0.4832 - val_acc: 0.7716\n",
      "Epoch 9/10\n",
      "20000/20000 [==============================] - 11s 564us/step - loss: 0.4993 - acc: 0.7560 - val_loss: 0.5082 - val_acc: 0.7524\n",
      "Epoch 10/10\n",
      "20000/20000 [==============================] - 11s 565us/step - loss: 0.4991 - acc: 0.7560 - val_loss: 0.4715 - val_acc: 0.7726\n"
     ]
    },
    {
     "data": {
      "text/plain": [
       "<keras.callbacks.History at 0x7f272ead0550>"
      ]
     },
     "execution_count": 11,
     "metadata": {},
     "output_type": "execute_result"
    }
   ],
   "source": [
    "model.fit(x_train_char, y_train,\n",
    "          batch_size=200,\n",
    "          epochs=10,\n",
    "          verbose=1,\n",
    "          validation_split=0.2)"
   ]
  },
  {
   "cell_type": "code",
   "execution_count": 12,
   "metadata": {},
   "outputs": [
    {
     "name": "stdout",
     "output_type": "stream",
     "text": [
      "[0.46683025493621827, 0.77728]\n"
     ]
    }
   ],
   "source": [
    "score = model.evaluate(x_test_char, y_test, verbose=0)\n",
    "print(score)"
   ]
  }
 ],
 "metadata": {
  "kernelspec": {
   "display_name": "Python 3",
   "language": "python",
   "name": "python3"
  },
  "language_info": {
   "codemirror_mode": {
    "name": "ipython",
    "version": 3
   },
   "file_extension": ".py",
   "mimetype": "text/x-python",
   "name": "python",
   "nbconvert_exporter": "python",
   "pygments_lexer": "ipython3",
   "version": "3.6.6"
  }
 },
 "nbformat": 4,
 "nbformat_minor": 2
}
