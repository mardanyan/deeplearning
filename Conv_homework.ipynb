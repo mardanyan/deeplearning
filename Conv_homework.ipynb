{
 "cells": [
  {
   "cell_type": "markdown",
   "metadata": {},
   "source": [
    "# Conv2D implementation"
   ]
  },
  {
   "cell_type": "markdown",
   "metadata": {},
   "source": [
    "![](conv2d.png)"
   ]
  },
  {
   "cell_type": "markdown",
   "metadata": {},
   "source": [
    "import keras\n",
    "from keras.models import Model, Sequential\n",
    "from keras.datasets import mnist\n",
    "from keras.utils import np_utils\n",
    "from keras.layers import Dense, Input, Flatten, Conv2D, MaxPooling2D, Dropout\n",
    "from keras import backend as K"
   ]
  },
  {
   "cell_type": "markdown",
   "metadata": {},
   "source": [
    "## import models"
   ]
  },
  {
   "cell_type": "code",
   "execution_count": 1,
   "metadata": {},
   "outputs": [
    {
     "name": "stderr",
     "output_type": "stream",
     "text": [
      "Using TensorFlow backend.\n"
     ]
    }
   ],
   "source": [
    "import keras\n",
    "from keras.models import Sequential\n",
    "from keras.datasets import mnist\n",
    "from keras.utils import np_utils\n",
    "from keras.layers import Conv2D, Dense, Flatten, MaxPooling2D\n",
    "from keras import backend as K"
   ]
  },
  {
   "cell_type": "code",
   "execution_count": 2,
   "metadata": {},
   "outputs": [],
   "source": [
    "(x_train, y_train), (x_test, y_test) = mnist.load_data()"
   ]
  },
  {
   "cell_type": "code",
   "execution_count": 3,
   "metadata": {},
   "outputs": [],
   "source": [
    "x_train = x_train.reshape(-1, 28, 28, 1).astype('float32')\n",
    "x_test = x_test.reshape(-1, 28, 28, 1).astype('float32')\n",
    "x_train /= 255\n",
    "x_test /= 255"
   ]
  },
  {
   "cell_type": "code",
   "execution_count": 4,
   "metadata": {},
   "outputs": [],
   "source": [
    "y_train = np_utils.to_categorical(y_train, 10)\n",
    "y_test = np_utils.to_categorical(y_test, 10)"
   ]
  },
  {
   "cell_type": "code",
   "execution_count": 5,
   "metadata": {},
   "outputs": [
    {
     "name": "stdout",
     "output_type": "stream",
     "text": [
      "(60000, 28, 28, 1) (60000, 10)\n",
      "(10000, 28, 28, 1) (10000, 10)\n"
     ]
    }
   ],
   "source": [
    "print(x_train.shape, y_train.shape)\n",
    "print(x_test.shape, y_test.shape)\n"
   ]
  },
  {
   "cell_type": "code",
   "execution_count": 6,
   "metadata": {},
   "outputs": [],
   "source": [
    "def define_mode():\n",
    "    \n",
    "    if K.image_data_format() == 'channels_first':\n",
    "        print(\"channels_first\")\n",
    "        input_shape=(1, 28, 28)\n",
    "    else:\n",
    "        print(\"channels_last\")\n",
    "        input_shape=(28, 28, 1)\n",
    "\n",
    "    model = Sequential()\n",
    "    \n",
    "    model.add(Conv2D(20, kernel_size=(3, 3), \n",
    "                     activation=None))\n",
    "    \n",
    "    model.add(MaxPooling2D(pool_size=(2, 2)))\n",
    "    \n",
    "    model.add(Conv2D(50, kernel_size=(5, 5), \n",
    "                     activation=None))\n",
    "    \n",
    "    model.add(MaxPooling2D(pool_size=(2, 2)))\n",
    "    \n",
    "    model.add(Flatten())\n",
    "    model.add(Dense(10, activation=\"softmax\"))\n",
    "\n",
    "    model.compile(optimizer=keras.optimizers.Adam(), \n",
    "                  loss=keras.losses.categorical_crossentropy, \n",
    "                  metrics=['accuracy'],\n",
    "                  validation_split=0.2)\n",
    "    \n",
    "    return model"
   ]
  },
  {
   "cell_type": "code",
   "execution_count": 7,
   "metadata": {},
   "outputs": [
    {
     "name": "stdout",
     "output_type": "stream",
     "text": [
      "channels_last\n",
      "Train on 48000 samples, validate on 12000 samples\n",
      "Epoch 1/10\n",
      "48000/48000 [==============================] - 8s 157us/step - loss: 0.2021 - acc: 0.9405 - val_loss: 0.0863 - val_acc: 0.9753\n",
      "Epoch 2/10\n",
      "48000/48000 [==============================] - 7s 139us/step - loss: 0.0753 - acc: 0.9776 - val_loss: 0.0660 - val_acc: 0.9810\n",
      "Epoch 3/10\n",
      "48000/48000 [==============================] - 7s 139us/step - loss: 0.0557 - acc: 0.9827 - val_loss: 0.0569 - val_acc: 0.9828\n",
      "Epoch 4/10\n",
      "48000/48000 [==============================] - 6s 133us/step - loss: 0.0452 - acc: 0.9859 - val_loss: 0.0614 - val_acc: 0.9817\n",
      "Epoch 5/10\n",
      "48000/48000 [==============================] - 7s 138us/step - loss: 0.0381 - acc: 0.9880 - val_loss: 0.0561 - val_acc: 0.9845\n",
      "Epoch 6/10\n",
      "48000/48000 [==============================] - 7s 138us/step - loss: 0.0297 - acc: 0.9907 - val_loss: 0.0870 - val_acc: 0.9756\n",
      "Epoch 7/10\n",
      "48000/48000 [==============================] - 7s 143us/step - loss: 0.0250 - acc: 0.9918 - val_loss: 0.0621 - val_acc: 0.9842\n",
      "Epoch 8/10\n",
      "48000/48000 [==============================] - 6s 135us/step - loss: 0.0223 - acc: 0.9927 - val_loss: 0.0828 - val_acc: 0.9794\n",
      "Epoch 9/10\n",
      "48000/48000 [==============================] - 7s 136us/step - loss: 0.0176 - acc: 0.9942 - val_loss: 0.0703 - val_acc: 0.9831\n",
      "Epoch 10/10\n",
      "48000/48000 [==============================] - 6s 134us/step - loss: 0.0167 - acc: 0.9942 - val_loss: 0.0698 - val_acc: 0.9832\n",
      "_________________________________________________________________\n",
      "Layer (type)                 Output Shape              Param #   \n",
      "=================================================================\n",
      "conv2d_1 (Conv2D)            (None, 26, 26, 20)        200       \n",
      "_________________________________________________________________\n",
      "max_pooling2d_1 (MaxPooling2 (None, 13, 13, 20)        0         \n",
      "_________________________________________________________________\n",
      "conv2d_2 (Conv2D)            (None, 9, 9, 50)          25050     \n",
      "_________________________________________________________________\n",
      "max_pooling2d_2 (MaxPooling2 (None, 4, 4, 50)          0         \n",
      "_________________________________________________________________\n",
      "flatten_1 (Flatten)          (None, 800)               0         \n",
      "_________________________________________________________________\n",
      "dense_1 (Dense)              (None, 10)                8010      \n",
      "=================================================================\n",
      "Total params: 33,260\n",
      "Trainable params: 33,260\n",
      "Non-trainable params: 0\n",
      "_________________________________________________________________\n",
      "None\n"
     ]
    }
   ],
   "source": [
    "model = define_mode()\n",
    "\n",
    "\n",
    "\n",
    "model.fit(x_train, y_train, \n",
    "          batch_size=32, \n",
    "          epochs=10, \n",
    "          validation_split=0.2)\n",
    "\n",
    "print(model.summary())"
   ]
  },
  {
   "cell_type": "code",
   "execution_count": 8,
   "metadata": {},
   "outputs": [
    {
     "name": "stdout",
     "output_type": "stream",
     "text": [
      "10000/10000 [==============================] - 0s 44us/step\n",
      "[0.063148732566354, 0.9833]\n"
     ]
    }
   ],
   "source": [
    "score = model.evaluate(x_test, y_test)\n",
    "print(score)"
   ]
  },
  {
   "cell_type": "code",
   "execution_count": null,
   "metadata": {},
   "outputs": [],
   "source": []
  }
 ],
 "metadata": {
  "kernelspec": {
   "display_name": "Python 3",
   "language": "python",
   "name": "python3"
  },
  "language_info": {
   "codemirror_mode": {
    "name": "ipython",
    "version": 3
   },
   "file_extension": ".py",
   "mimetype": "text/x-python",
   "name": "python",
   "nbconvert_exporter": "python",
   "pygments_lexer": "ipython3",
   "version": "3.6.6"
  }
 },
 "nbformat": 4,
 "nbformat_minor": 2
}
