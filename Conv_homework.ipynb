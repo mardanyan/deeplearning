{
 "cells": [
  {
   "cell_type": "markdown",
   "metadata": {},
   "source": [
    "# Conv2D implementation"
   ]
  },
  {
   "cell_type": "markdown",
   "metadata": {},
   "source": [
    "![](conv2d.png)"
   ]
  },
  {
   "cell_type": "markdown",
   "metadata": {},
   "source": [
    "import keras\n",
    "from keras.models import Model, Sequential\n",
    "from keras.datasets import mnist\n",
    "from keras.utils import np_utils\n",
    "from keras.layers import Dense, Input, Flatten, Conv2D, MaxPooling2D, Dropout\n",
    "from keras import backend as K"
   ]
  },
  {
   "cell_type": "markdown",
   "metadata": {},
   "source": [
    "## import models"
   ]
  },
  {
   "cell_type": "code",
   "execution_count": 1,
   "metadata": {},
   "outputs": [
    {
     "name": "stderr",
     "output_type": "stream",
     "text": [
      "Using TensorFlow backend.\n"
     ]
    }
   ],
   "source": [
    "import keras\n",
    "from keras.models import Sequential\n",
    "from keras.datasets import mnist\n",
    "from keras.utils import np_utils\n",
    "from keras.layers import Conv2D, Dense, Flatten, MaxPooling2D\n",
    "from keras import backend as K"
   ]
  },
  {
   "cell_type": "code",
   "execution_count": 2,
   "metadata": {},
   "outputs": [],
   "source": [
    "(x_train, y_train), (x_test, y_test) = mnist.load_data()"
   ]
  },
  {
   "cell_type": "markdown",
   "metadata": {},
   "source": [
    "<b>Understand</b>\n",
    "1. ???? xi petq ekav reshape anel\n",
    "2. diff MaxPool2D MaxPooling2D"
   ]
  },
  {
   "cell_type": "code",
   "execution_count": 3,
   "metadata": {},
   "outputs": [],
   "source": [
    "x_train = x_train.reshape(-1, 28, 28, 1).astype('float32')\n",
    "x_test = x_test.reshape(-1, 28, 28, 1).astype('float32')\n",
    "x_train /= 255\n",
    "x_test /= 255"
   ]
  },
  {
   "cell_type": "code",
   "execution_count": 4,
   "metadata": {},
   "outputs": [],
   "source": [
    "y_train = np_utils.to_categorical(y_train, 10)\n",
    "y_test = np_utils.to_categorical(y_test, 10)"
   ]
  },
  {
   "cell_type": "code",
   "execution_count": 5,
   "metadata": {},
   "outputs": [
    {
     "name": "stdout",
     "output_type": "stream",
     "text": [
      "(60000, 28, 28, 1) (60000, 10)\n",
      "(10000, 28, 28, 1) (10000, 10)\n"
     ]
    }
   ],
   "source": [
    "print(x_train.shape, y_train.shape)\n",
    "print(x_test.shape, y_test.shape)\n"
   ]
  },
  {
   "cell_type": "code",
   "execution_count": 6,
   "metadata": {},
   "outputs": [],
   "source": [
    "def define_mode():\n",
    "    \n",
    "    if K.image_data_format() == 'channels_first':\n",
    "        print(\"channels_first\")\n",
    "        input_shape=(1, 28, 28)\n",
    "    else:\n",
    "        print(\"channels_last\")\n",
    "        input_shape=(28, 28, 1)\n",
    "\n",
    "    model = Sequential()\n",
    "    \n",
    "    model.add(Conv2D(20, kernel_size=(3, 3), \n",
    "                     activation=None))\n",
    "    \n",
    "    model.add(MaxPooling2D(pool_size=(2, 2)))\n",
    "    \n",
    "    model.add(Conv2D(50, kernel_size=(5, 5), \n",
    "                     activation=None))\n",
    "    \n",
    "    model.add(MaxPooling2D(pool_size=(2, 2)))\n",
    "    \n",
    "    model.add(Flatten())\n",
    "    model.add(Dense(10, activation=\"softmax\"))\n",
    "\n",
    "    model.compile(optimizer=keras.optimizers.Adam(), \n",
    "                  loss=keras.losses.categorical_crossentropy, \n",
    "                  metrics=['accuracy'],\n",
    "                  va)\n",
    "    \n",
    "    return model"
   ]
  },
  {
   "cell_type": "code",
   "execution_count": 8,
   "metadata": {},
   "outputs": [
    {
     "name": "stdout",
     "output_type": "stream",
     "text": [
      "channels_last\n",
      "Train on 48000 samples, validate on 12000 samples\n",
      "Epoch 1/10\n",
      "48000/48000 [==============================] - 7s 142us/step - loss: 0.1971 - acc: 0.9427 - val_loss: 0.0884 - val_acc: 0.9742\n",
      "Epoch 2/10\n",
      "48000/48000 [==============================] - 6s 133us/step - loss: 0.0722 - acc: 0.9785 - val_loss: 0.0688 - val_acc: 0.9802\n",
      "Epoch 3/10\n",
      "48000/48000 [==============================] - 7s 143us/step - loss: 0.0550 - acc: 0.9832 - val_loss: 0.0693 - val_acc: 0.9800\n",
      "Epoch 4/10\n",
      "48000/48000 [==============================] - 7s 150us/step - loss: 0.0461 - acc: 0.9854 - val_loss: 0.0586 - val_acc: 0.9840\n",
      "Epoch 5/10\n",
      "48000/48000 [==============================] - 7s 145us/step - loss: 0.0370 - acc: 0.9885 - val_loss: 0.0649 - val_acc: 0.9810\n",
      "Epoch 6/10\n",
      "48000/48000 [==============================] - 7s 145us/step - loss: 0.0318 - acc: 0.9900 - val_loss: 0.0643 - val_acc: 0.9821\n",
      "Epoch 7/10\n",
      "48000/48000 [==============================] - 6s 135us/step - loss: 0.0248 - acc: 0.9920 - val_loss: 0.0560 - val_acc: 0.9843\n",
      "Epoch 8/10\n",
      "48000/48000 [==============================] - 7s 137us/step - loss: 0.0229 - acc: 0.9925 - val_loss: 0.0588 - val_acc: 0.9843\n",
      "Epoch 9/10\n",
      "48000/48000 [==============================] - 6s 134us/step - loss: 0.0181 - acc: 0.9939 - val_loss: 0.0630 - val_acc: 0.9839\n",
      "Epoch 10/10\n",
      "48000/48000 [==============================] - 6s 126us/step - loss: 0.0160 - acc: 0.9946 - val_loss: 0.0640 - val_acc: 0.9854\n",
      "_________________________________________________________________\n",
      "Layer (type)                 Output Shape              Param #   \n",
      "=================================================================\n",
      "conv2d_3 (Conv2D)            (None, 26, 26, 20)        200       \n",
      "_________________________________________________________________\n",
      "max_pooling2d_3 (MaxPooling2 (None, 13, 13, 20)        0         \n",
      "_________________________________________________________________\n",
      "conv2d_4 (Conv2D)            (None, 9, 9, 50)          25050     \n",
      "_________________________________________________________________\n",
      "max_pooling2d_4 (MaxPooling2 (None, 4, 4, 50)          0         \n",
      "_________________________________________________________________\n",
      "flatten_2 (Flatten)          (None, 800)               0         \n",
      "_________________________________________________________________\n",
      "dense_2 (Dense)              (None, 10)                8010      \n",
      "=================================================================\n",
      "Total params: 33,260\n",
      "Trainable params: 33,260\n",
      "Non-trainable params: 0\n",
      "_________________________________________________________________\n",
      "None\n"
     ]
    }
   ],
   "source": [
    "model = define_mode()\n",
    "\n",
    "\n",
    "\n",
    "model.fit(x_train, y_train, \n",
    "          batch_size=32, \n",
    "          epochs=10, \n",
    "          validation_split=0.2)\n",
    "\n",
    "print(model.summary())"
   ]
  },
  {
   "cell_type": "code",
   "execution_count": null,
   "metadata": {},
   "outputs": [],
   "source": [
    "score = model.evaluate(x_test, y_test)\n",
    "print(score)"
   ]
  },
  {
   "cell_type": "code",
   "execution_count": null,
   "metadata": {},
   "outputs": [],
   "source": []
  }
 ],
 "metadata": {
  "kernelspec": {
   "display_name": "Python 3",
   "language": "python",
   "name": "python3"
  },
  "language_info": {
   "codemirror_mode": {
    "name": "ipython",
    "version": 3
   },
   "file_extension": ".py",
   "mimetype": "text/x-python",
   "name": "python",
   "nbconvert_exporter": "python",
   "pygments_lexer": "ipython3",
   "version": "3.6.6"
  }
 },
 "nbformat": 4,
 "nbformat_minor": 2
}
